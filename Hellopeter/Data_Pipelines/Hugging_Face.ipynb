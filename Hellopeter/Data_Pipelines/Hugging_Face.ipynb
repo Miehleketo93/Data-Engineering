{
 "cells": [
  {
   "cell_type": "code",
   "execution_count": 4,
   "id": "7a56d073",
   "metadata": {},
   "outputs": [],
   "source": [
    "from datetime import datetime\n",
    "import pandas as pd\n",
    "from transformers import pipeline\n",
    "from huggingface_hub import login\n",
    "from datasets import Dataset\n",
    "import os\n",
    "from dotenv import load_dotenv"
   ]
  },
  {
   "cell_type": "code",
   "execution_count": 5,
   "id": "5befdf09",
   "metadata": {},
   "outputs": [
    {
     "name": "stderr",
     "output_type": "stream",
     "text": [
      "Note: Environment variable`HF_TOKEN` is set and is the current active token independently from the token you've just configured.\n"
     ]
    }
   ],
   "source": [
    "# This loads the variables from your .env file\n",
    "load_dotenv()\n",
    "\n",
    "my_token = os.getenv(\"HF_TOKEN\")\n",
    "\n",
    "login(token=my_token)"
   ]
  },
  {
   "cell_type": "code",
   "execution_count": null,
   "id": "b3b8f1fd",
   "metadata": {},
   "outputs": [],
   "source": [
    "final_complaints_df = pd.read_csv('customer_insurance_reviews_final.csv')"
   ]
  },
  {
   "cell_type": "code",
   "execution_count": null,
   "id": "0e6e699c",
   "metadata": {},
   "outputs": [],
   "source": [
    "# Convert DataFrame to Dataset\n",
    "dataset = Dataset.from_pandas(final_complaints_df)"
   ]
  },
  {
   "cell_type": "code",
   "execution_count": null,
   "id": "4fed41e3",
   "metadata": {},
   "outputs": [],
   "source": [
    "# Save the dataset to Hugging Face Hub\n",
    "dataset.push_to_hub(\"miehleketo93/customer_insurance_reviews\")"
   ]
  },
  {
   "cell_type": "code",
   "execution_count": null,
   "id": "75e1d384",
   "metadata": {},
   "outputs": [],
   "source": [
    "# Display the DataFrame\n",
    "print(final_complaints_df.head())"
   ]
  }
 ],
 "metadata": {
  "kernelspec": {
   "display_name": "mie",
   "language": "python",
   "name": "python3"
  },
  "language_info": {
   "codemirror_mode": {
    "name": "ipython",
    "version": 3
   },
   "file_extension": ".py",
   "mimetype": "text/x-python",
   "name": "python",
   "nbconvert_exporter": "python",
   "pygments_lexer": "ipython3",
   "version": "3.11.4"
  }
 },
 "nbformat": 4,
 "nbformat_minor": 5
}
